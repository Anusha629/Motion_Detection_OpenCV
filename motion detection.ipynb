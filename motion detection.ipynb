{
 "cells": [
  {
   "cell_type": "code",
   "execution_count": 1,
   "id": "1ee307ee",
   "metadata": {},
   "outputs": [],
   "source": [
    "import cv2\n",
    "\n",
    "# initialize video capture object\n",
    "cap = cv2.VideoCapture(0)\n",
    "\n",
    "# define the background subtractor object\n",
    "bgsub = cv2.createBackgroundSubtractorMOG2()\n",
    "\n",
    "while True:\n",
    "    # read a frame from the video stream\n",
    "    ret, frame = cap.read()\n",
    "\n",
    "    # apply background subtraction to the frame\n",
    "    mask = bgsub.apply(frame)\n",
    "\n",
    "    # apply thresholding to the difference image\n",
    "    thresh = cv2.threshold(mask, 60, 255, cv2.THRESH_BINARY)[1]\n",
    "\n",
    "    # perform morphological operations to remove noise\n",
    "    kernel = cv2.getStructuringElement(cv2.MORPH_ELLIPSE, (3, 3))\n",
    "    thresh = cv2.morphologyEx(thresh, cv2.MORPH_OPEN, kernel)\n",
    "\n",
    "    # find contours in the thresholded image\n",
    "    contours, hierarchy = cv2.findContours(thresh, cv2.RETR_EXTERNAL, cv2.CHAIN_APPROX_SIMPLE)\n",
    "\n",
    "    # loop over the contours and draw rectangles around moving objects\n",
    "    for c in contours:\n",
    "        if cv2.contourArea(c) < 500:\n",
    "            continue\n",
    "        (x, y, w, h) = cv2.boundingRect(c)\n",
    "        cv2.rectangle(frame, (x, y), (x + w, y + h), (0, 255, 0), 2)\n",
    "\n",
    "    # show the video stream and motion detection result\n",
    "    cv2.imshow('Motion Detection', frame)\n",
    "\n",
    "    # exit if the 'q' key is pressed\n",
    "    if cv2.waitKey(1) & 0xFF == ord('q'):\n",
    "        break\n",
    "# release resources\n",
    "cap.release()\n",
    "cv2.destroyAllWindows()\n"
   ]
  },
  {
   "cell_type": "code",
   "execution_count": null,
   "id": "1d62c45a",
   "metadata": {},
   "outputs": [],
   "source": []
  }
 ],
 "metadata": {
  "kernelspec": {
   "display_name": "Python 3 (ipykernel)",
   "language": "python",
   "name": "python3"
  },
  "language_info": {
   "codemirror_mode": {
    "name": "ipython",
    "version": 3
   },
   "file_extension": ".py",
   "mimetype": "text/x-python",
   "name": "python",
   "nbconvert_exporter": "python",
   "pygments_lexer": "ipython3",
   "version": "3.9.12"
  }
 },
 "nbformat": 4,
 "nbformat_minor": 5
}
